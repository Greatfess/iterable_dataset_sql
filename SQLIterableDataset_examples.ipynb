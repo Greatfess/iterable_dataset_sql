{
 "cells": [
  {
   "cell_type": "code",
   "execution_count": 1,
   "metadata": {
    "ExecuteTime": {
     "end_time": "2021-03-28T17:54:35.570841Z",
     "start_time": "2021-03-28T17:54:34.901920Z"
    }
   },
   "outputs": [],
   "source": [
    "from torch.utils.data import DataLoader\n",
    "from iterable_sql import SQLIterableDataset\n",
    "import datetime"
   ]
  },
  {
   "cell_type": "code",
   "execution_count": 2,
   "metadata": {
    "ExecuteTime": {
     "end_time": "2021-03-28T17:54:36.003544Z",
     "start_time": "2021-03-28T17:54:35.990065Z"
    }
   },
   "outputs": [],
   "source": [
    "driver = 'ODBC+Driver+17+for+SQL+Server'\n",
    "server = r'DESKTOP-5A37F25\\SQLEXPRESS'\n",
    "database = 'Test'\n",
    "iterate_from = datetime.datetime(2020, 2, 10, 0, 0, 0, 0, tzinfo=datetime.timezone.utc)\n",
    "iterate_to = datetime.datetime(2020, 2, 10, 23, 59, 59, 999999, tzinfo=datetime.timezone.utc)"
   ]
  },
  {
   "cell_type": "code",
   "execution_count": 9,
   "metadata": {
    "ExecuteTime": {
     "end_time": "2021-03-28T17:55:10.596772Z",
     "start_time": "2021-03-28T17:55:10.591282Z"
    }
   },
   "outputs": [],
   "source": [
    "args = {\n",
    "    # Required parameters\n",
    "    'conn_str': f'mssql://@{server}/{database}?driver={driver}',\n",
    "    'table': 'Test.dbo.Tesla_Trades_and_Quotes_2020_2021',\n",
    "    'iterable_column': 'date_time',\n",
    "    # Optional parameters\n",
    "    'iterate_from': iterate_from,\n",
    "    'iterate_to': iterate_to,\n",
    "    'columns': ['date_time', 'price', 'size'],\n",
    "       }"
   ]
  },
  {
   "cell_type": "code",
   "execution_count": 10,
   "metadata": {
    "ExecuteTime": {
     "end_time": "2021-03-28T17:55:11.075696Z",
     "start_time": "2021-03-28T17:55:11.062219Z"
    },
    "scrolled": true
   },
   "outputs": [
    {
     "name": "stdout",
     "output_type": "stream",
     "text": [
      "['date_time', 'price', 'size']\n",
      "\n"
     ]
    }
   ],
   "source": [
    "# test object parameters\n",
    "dataset = SQLIterableDataset(**args)\n",
    "dataloader = DataLoader(dataset, batch_size=10000,\n",
    "                        shuffle=False, drop_last=False\n",
    "                        )\n",
    "print(dataset.columns, end='\\n\\n')"
   ]
  },
  {
   "cell_type": "code",
   "execution_count": 11,
   "metadata": {
    "ExecuteTime": {
     "end_time": "2021-03-28T17:55:11.523609Z",
     "start_time": "2021-03-28T17:55:11.495142Z"
    },
    "scrolled": true
   },
   "outputs": [
    {
     "name": "stdout",
     "output_type": "stream",
     "text": [
      "{'date_time': ['2020-02-10 09:00:31.244700+00:00', '2020-02-10 09:00:32.180800+00:00', '2020-02-10 09:00:34.024000+00:00', '2020-02-10 09:00:34.588800+00:00', '2020-02-10 09:00:34.705800+00:00'], 'price': tensor([755.0000, 755.0000, 755.0000, 754.9700, 754.0000], dtype=torch.float64), 'size': tensor([280,  30,  50,  12,  10])}\n",
      "Wall time: 18.5 ms\n"
     ]
    }
   ],
   "source": [
    "%%time\n",
    "# test print batches\n",
    "from IPython.display import clear_output\n",
    "dataset = SQLIterableDataset(**args)\n",
    "dataloader = DataLoader(dataset, batch_size=5,\n",
    "                        shuffle=False, drop_last=False,\n",
    "                        collate_fn=dataset.sqlcollate)\n",
    "for i, batch in enumerate(dataloader):\n",
    "    if i == 5: break\n",
    "    clear_output(wait=True)\n",
    "    print(batch)"
   ]
  },
  {
   "cell_type": "code",
   "execution_count": 13,
   "metadata": {
    "ExecuteTime": {
     "end_time": "2021-03-28T18:03:01.176530Z",
     "start_time": "2021-03-28T18:02:51.043761Z"
    }
   },
   "outputs": [
    {
     "data": {
      "application/vnd.jupyter.widget-view+json": {
       "model_id": "a81508dd2a594870af388eb1d21e0a5e",
       "version_major": 2,
       "version_minor": 0
      },
      "text/plain": [
       "0it [00:00, ?it/s]"
      ]
     },
     "metadata": {},
     "output_type": "display_data"
    },
    {
     "name": "stdout",
     "output_type": "stream",
     "text": [
      "Wall time: 10.1 s\n"
     ]
    }
   ],
   "source": [
    "%%time\n",
    "# test work with tqdm\n",
    "from tqdm.notebook import tqdm\n",
    "dataset = SQLIterableDataset(**args)\n",
    "dataloader = DataLoader(dataset, batch_size=15000,\n",
    "                        shuffle=False, drop_last=False,\n",
    "                        collate_fn=dataset.sqlcollate)\n",
    "for batch in tqdm(dataloader):\n",
    "    pass"
   ]
  },
  {
   "cell_type": "code",
   "execution_count": 15,
   "metadata": {
    "ExecuteTime": {
     "end_time": "2021-03-28T18:03:30.695078Z",
     "start_time": "2021-03-28T18:03:30.567783Z"
    }
   },
   "outputs": [
    {
     "name": "stdout",
     "output_type": "stream",
     "text": [
      "Wall time: 106 ms\n"
     ]
    },
    {
     "data": {
      "text/html": [
       "<div>\n",
       "<style scoped>\n",
       "    .dataframe tbody tr th:only-of-type {\n",
       "        vertical-align: middle;\n",
       "    }\n",
       "\n",
       "    .dataframe tbody tr th {\n",
       "        vertical-align: top;\n",
       "    }\n",
       "\n",
       "    .dataframe thead th {\n",
       "        text-align: right;\n",
       "    }\n",
       "</style>\n",
       "<table border=\"1\" class=\"dataframe\">\n",
       "  <thead>\n",
       "    <tr style=\"text-align: right;\">\n",
       "      <th></th>\n",
       "      <th>date_time</th>\n",
       "      <th>price</th>\n",
       "      <th>size</th>\n",
       "    </tr>\n",
       "  </thead>\n",
       "  <tbody>\n",
       "    <tr>\n",
       "      <th>0</th>\n",
       "      <td>2020-02-10 09:00:00.077800+00:00</td>\n",
       "      <td>755.00</td>\n",
       "      <td>698</td>\n",
       "    </tr>\n",
       "    <tr>\n",
       "      <th>1</th>\n",
       "      <td>2020-02-10 09:00:00.416000+00:00</td>\n",
       "      <td>755.00</td>\n",
       "      <td>40</td>\n",
       "    </tr>\n",
       "    <tr>\n",
       "      <th>2</th>\n",
       "      <td>2020-02-10 09:00:00.509700+00:00</td>\n",
       "      <td>752.53</td>\n",
       "      <td>10</td>\n",
       "    </tr>\n",
       "    <tr>\n",
       "      <th>3</th>\n",
       "      <td>2020-02-10 09:00:00.892700+00:00</td>\n",
       "      <td>752.63</td>\n",
       "      <td>3</td>\n",
       "    </tr>\n",
       "    <tr>\n",
       "      <th>4</th>\n",
       "      <td>2020-02-10 09:00:05.960600+00:00</td>\n",
       "      <td>753.00</td>\n",
       "      <td>5</td>\n",
       "    </tr>\n",
       "    <tr>\n",
       "      <th>...</th>\n",
       "      <td>...</td>\n",
       "      <td>...</td>\n",
       "      <td>...</td>\n",
       "    </tr>\n",
       "    <tr>\n",
       "      <th>2995</th>\n",
       "      <td>2020-02-10 10:36:57.892400+00:00</td>\n",
       "      <td>789.00</td>\n",
       "      <td>30</td>\n",
       "    </tr>\n",
       "    <tr>\n",
       "      <th>2996</th>\n",
       "      <td>2020-02-10 10:36:57.892400+00:00</td>\n",
       "      <td>789.05</td>\n",
       "      <td>38</td>\n",
       "    </tr>\n",
       "    <tr>\n",
       "      <th>2997</th>\n",
       "      <td>2020-02-10 10:37:09.715200+00:00</td>\n",
       "      <td>788.90</td>\n",
       "      <td>15</td>\n",
       "    </tr>\n",
       "    <tr>\n",
       "      <th>2998</th>\n",
       "      <td>2020-02-10 10:37:14.596600+00:00</td>\n",
       "      <td>788.90</td>\n",
       "      <td>25</td>\n",
       "    </tr>\n",
       "    <tr>\n",
       "      <th>2999</th>\n",
       "      <td>2020-02-10 10:37:18.023500+00:00</td>\n",
       "      <td>789.05</td>\n",
       "      <td>15</td>\n",
       "    </tr>\n",
       "  </tbody>\n",
       "</table>\n",
       "<p>3000 rows × 3 columns</p>\n",
       "</div>"
      ],
      "text/plain": [
       "                             date_time   price  size\n",
       "0     2020-02-10 09:00:00.077800+00:00  755.00   698\n",
       "1     2020-02-10 09:00:00.416000+00:00  755.00    40\n",
       "2     2020-02-10 09:00:00.509700+00:00  752.53    10\n",
       "3     2020-02-10 09:00:00.892700+00:00  752.63     3\n",
       "4     2020-02-10 09:00:05.960600+00:00  753.00     5\n",
       "...                                ...     ...   ...\n",
       "2995  2020-02-10 10:36:57.892400+00:00  789.00    30\n",
       "2996  2020-02-10 10:36:57.892400+00:00  789.05    38\n",
       "2997  2020-02-10 10:37:09.715200+00:00  788.90    15\n",
       "2998  2020-02-10 10:37:14.596600+00:00  788.90    25\n",
       "2999  2020-02-10 10:37:18.023500+00:00  789.05    15\n",
       "\n",
       "[3000 rows x 3 columns]"
      ]
     },
     "execution_count": 15,
     "metadata": {},
     "output_type": "execute_result"
    }
   ],
   "source": [
    "%%time\n",
    "# test load in pandas DataFrame\n",
    "import pandas as pd\n",
    "df = pd.DataFrame()\n",
    "dataset = SQLIterableDataset(**args)\n",
    "dataloader = DataLoader(dataset, batch_size=3000,\n",
    "                        shuffle=False, drop_last=False,\n",
    "                        collate_fn=dataset.sqlcollate)\n",
    "for batch in dataloader:\n",
    "    df = df.append(pd.DataFrame(batch), ignore_index=True)\n",
    "    break\n",
    "df"
   ]
  },
  {
   "cell_type": "code",
   "execution_count": null,
   "metadata": {},
   "outputs": [],
   "source": []
  }
 ],
 "metadata": {
  "kernelspec": {
   "display_name": "Python 3",
   "language": "python",
   "name": "python3"
  },
  "language_info": {
   "codemirror_mode": {
    "name": "ipython",
    "version": 3
   },
   "file_extension": ".py",
   "mimetype": "text/x-python",
   "name": "python",
   "nbconvert_exporter": "python",
   "pygments_lexer": "ipython3",
   "version": "3.7.9"
  },
  "varInspector": {
   "cols": {
    "lenName": 16,
    "lenType": 16,
    "lenVar": 40
   },
   "kernels_config": {
    "python": {
     "delete_cmd_postfix": "",
     "delete_cmd_prefix": "del ",
     "library": "var_list.py",
     "varRefreshCmd": "print(var_dic_list())"
    },
    "r": {
     "delete_cmd_postfix": ") ",
     "delete_cmd_prefix": "rm(",
     "library": "var_list.r",
     "varRefreshCmd": "cat(var_dic_list()) "
    }
   },
   "types_to_exclude": [
    "module",
    "function",
    "builtin_function_or_method",
    "instance",
    "_Feature"
   ],
   "window_display": false
  }
 },
 "nbformat": 4,
 "nbformat_minor": 2
}
